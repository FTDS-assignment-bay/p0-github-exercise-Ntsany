{
 "cells": [
  {
   "attachments": {},
   "cell_type": "markdown",
   "metadata": {},
   "source": [
    "Cara Clone Repository\n"
   ]
  },
  {
   "attachments": {},
   "cell_type": "markdown",
   "metadata": {},
   "source": [
    "Ada 2 cara untuk clone\n",
    "- melalui https (flexible, bisa berbagai device)\n",
    "- melalui ssh (secure kalau yang pakai device kita aja)"
   ]
  },
  {
   "attachments": {},
   "cell_type": "markdown",
   "metadata": {},
   "source": [
    "cara clone:\n",
    "- git clone <url repository>\n",
    "- akan berbeda urlnya untuk ssh dan https tapi caranya sama"
   ]
  },
  {
   "attachments": {},
   "cell_type": "markdown",
   "metadata": {},
   "source": [
    "untuk sinkronisasi dari repository ke local, gunakan 'git pull'"
   ]
  },
  {
   "attachments": {},
   "cell_type": "markdown",
   "metadata": {},
   "source": [
    "Cara Add perubahan local ke repository"
   ]
  },
  {
   "attachments": {},
   "cell_type": "markdown",
   "metadata": {},
   "source": [
    "1. untuk cek status repository gunakan 'git status'\n",
    "2. lakukan 'git add<nama_file>' <nama file> bisa diganti dengan '.' untuk representasi semua file. file masuk ke staging\n",
    "3. untuk commit hasil staging gunakan 'git coming -m \"masukan message commitnya\"' message commit biasanya berupa apa yang berubah atau ditambahkan\n",
    "4. untuk sinkronisasi ke repository dari local, gunakan 'git push'"
   ]
  }
 ],
 "metadata": {
  "language_info": {
   "name": "python"
  },
  "orig_nbformat": 4
 },
 "nbformat": 4,
 "nbformat_minor": 2
}
